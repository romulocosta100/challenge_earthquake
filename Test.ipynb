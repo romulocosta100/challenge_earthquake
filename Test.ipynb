{
 "cells": [
  {
   "cell_type": "code",
   "execution_count": 1,
   "metadata": {},
   "outputs": [],
   "source": [
    "import pandas as pd\n",
    "from sklearn.model_selection import train_test_split\n",
    "from scipy import stats\n",
    "import numpy as np\n",
    "import matplotlib.pyplot as plt\n",
    "from matplotlib.colors import ListedColormap\n",
    "from sklearn.model_selection import train_test_split\n",
    "from sklearn.preprocessing import StandardScaler\n",
    "from sklearn.datasets import make_moons, make_circles, make_classification\n",
    "from sklearn.neural_network import MLPClassifier\n",
    "from sklearn.neighbors import KNeighborsClassifier\n",
    "from sklearn.svm import SVC\n",
    "from sklearn.gaussian_process import GaussianProcessClassifier\n",
    "from sklearn.gaussian_process.kernels import RBF\n",
    "from sklearn.tree import DecisionTreeClassifier\n",
    "from sklearn.ensemble import RandomForestClassifier, AdaBoostClassifier\n",
    "from sklearn.naive_bayes import GaussianNB\n",
    "from sklearn.discriminant_analysis import QuadraticDiscriminantAnalysis\n",
    "from sklearn.metrics import classification_report\n",
    "import xgboost as xgb\n",
    "from sklearn.metrics import accuracy_score"
   ]
  },
  {
   "cell_type": "markdown",
   "metadata": {},
   "source": [
    "## Load data"
   ]
  },
  {
   "cell_type": "code",
   "execution_count": 2,
   "metadata": {},
   "outputs": [
    {
     "name": "stdout",
     "output_type": "stream",
     "text": [
      "len train: 260601\n",
      "len train: 86868\n"
     ]
    }
   ],
   "source": [
    "#dir_data = \"/Users/romulo/Documents/Dataset/Earthquake Damage/\"\n",
    "dir_data = \"Dataset/\"\n",
    "df_x_train = pd.read_csv(dir_data+\"train_values.csv\",index_col=\"building_id\")\n",
    "df_y_train = pd.read_csv(dir_data+\"train_labels.csv\",index_col=\"building_id\")\n",
    "df_x_test = pd.read_csv(dir_data+\"test_values.csv\",index_col=\"building_id\")\n",
    "\n",
    "#df_x_train = df_x_train[:100]\n",
    "#df_y_train = df_y_train[:100]\n",
    "#df_x_test = df_x_test[:100]\n",
    "\n",
    "data_train = df_x_train.merge(df_y_train, how='left', left_index=True, right_index=True)\n",
    "\n",
    "\n",
    "\n",
    "print(\"len train:\",len(data_train))\n",
    "print(\"len train:\",len(df_x_test))"
   ]
  },
  {
   "cell_type": "markdown",
   "metadata": {},
   "source": [
    "## Preparate data"
   ]
  },
  {
   "cell_type": "code",
   "execution_count": 3,
   "metadata": {},
   "outputs": [],
   "source": [
    "# get y train\n",
    "y_train = data_train['damage_grade'].values\n",
    "\n",
    "# remove y of data_train\n",
    "data_train = data_train.drop('damage_grade', 1)"
   ]
  },
  {
   "cell_type": "code",
   "execution_count": 4,
   "metadata": {},
   "outputs": [
    {
     "name": "stdout",
     "output_type": "stream",
     "text": [
      "len all: 347469\n"
     ]
    }
   ],
   "source": [
    "# let's put the train data and test data together to make get_dummies and then divide\n",
    "df_x_all = data_train.append(df_x_test)\n",
    "print(\"len all:\",len(df_x_all))\n",
    "\n",
    "# get dummies from cat columns\n",
    "cat_var = [key for key in dict(df_x_all.dtypes) if dict(df_x_all.dtypes)[key] in ['object'] ]\n",
    "df_x_all = pd.get_dummies(df_x_all, prefix=cat_var, columns=cat_var)\n",
    "\n",
    "#divide x_train and x_test\n",
    "x_train = df_x_all.iloc[:len(data_train)]\n",
    "x_test = df_x_all.iloc[len(data_train):]"
   ]
  },
  {
   "cell_type": "code",
   "execution_count": 5,
   "metadata": {},
   "outputs": [],
   "source": [
    "# clear memory\n",
    "del df_x_all,df_x_train,df_y_train,data_train,df_x_test"
   ]
  },
  {
   "cell_type": "code",
   "execution_count": 6,
   "metadata": {},
   "outputs": [],
   "source": [
    "#get x_dev and y_dev (10% from train)\n",
    "x_train, x_dev, y_train, y_dev = train_test_split( x_train, y_train, test_size=0.1, random_state=42)"
   ]
  },
  {
   "cell_type": "code",
   "execution_count": 7,
   "metadata": {},
   "outputs": [
    {
     "name": "stdout",
     "output_type": "stream",
     "text": [
      "len x_train : 234540  len y_train: 234540 \n",
      "len x_dev   : 26061  len y_dev  : 26061 \n",
      "len x_test  : 86868\n"
     ]
    }
   ],
   "source": [
    "print(\"len x_train : %d  len y_train: %d \" %(len(x_train),len(y_train)) )\n",
    "print(\"len x_dev   : %d  len y_dev  : %d \" %(len(x_dev),len(y_dev)) )\n",
    "print(\"len x_test  : %d\" %(len(x_test)) )"
   ]
  },
  {
   "cell_type": "markdown",
   "metadata": {},
   "source": [
    "## Testing Algorithms from sklearn"
   ]
  },
  {
   "cell_type": "code",
   "execution_count": 19,
   "metadata": {},
   "outputs": [],
   "source": [
    "# names = [\"Nearest Neighbors\", \"Gaussian Process\",\n",
    "#          \"Decision Tree\", \"Random Forest\", \"Neural Net\", \"AdaBoost\",\n",
    "#          \"Naive Bayes\", \"QDA\"]\n",
    "\n",
    "# classifiers = [\n",
    "#     KNeighborsClassifier(50),\n",
    "#     GaussianProcessClassifier(1.0 * RBF(1.0)),\n",
    "#     DecisionTreeClassifier(max_depth=8),\n",
    "#     RandomForestClassifier(max_depth=8, n_estimators=1500, max_features=1),\n",
    "#     MLPClassifier(alpha=1, max_iter=1000),\n",
    "#     AdaBoostClassifier(),\n",
    "#     GaussianNB(),\n",
    "#     QuadraticDiscriminantAnalysis()]"
   ]
  },
  {
   "cell_type": "code",
   "execution_count": 8,
   "metadata": {},
   "outputs": [],
   "source": [
    "# df_results_sklearn = pd.DataFrame(columns=[\"algorithm\",\"acc_train\",\"acc_dev\",\"precision_1\",\"recall_1\",\"f1-score_1\",\"precision_2\",\"recall_2\",\"f1-score_2\",\"precision_3\",\"recall_3\",\"f1-score_3\"])\n",
    "# for name, clf in zip(names, classifiers):\n",
    "#         print(name)\n",
    "#         clf.fit(x_train, y_train)\n",
    "#         score_train = clf.score(x_train, y_train)\n",
    "#         score_dev = clf.score(x_dev, y_dev)\n",
    "#         print(\"\\tscore_train: \",score_train)\n",
    "#         print(\"\\tscore_dev: \",score_dev)\n",
    "#         print(\"\\n\\n\")\n",
    "        \n",
    "#         pred_y_pred = clf.predict(x_dev)\n",
    "        \n",
    "#         dict_report = classification_report(y_dev, pred_y_pred,output_dict=True)\n",
    "#         precision_1 = dict_report[\"1\"][\"precision\"]\n",
    "#         precision_2 = dict_report[\"2\"][\"precision\"]\n",
    "#         precision_3 = dict_report[\"3\"][\"precision\"]\n",
    "        \n",
    "#         recall_1 = dict_report[\"1\"][\"recall\"]\n",
    "#         recall_2 = dict_report[\"2\"][\"recall\"]\n",
    "#         recall_3 = dict_report[\"3\"][\"recall\"]\n",
    "        \n",
    "#         score_1 = dict_report[\"1\"][\"f1-score\"]\n",
    "#         score_2 = dict_report[\"2\"][\"f1-score\"]\n",
    "#         score_3 = dict_report[\"3\"][\"f1-score\"]\n",
    "        \n",
    "#         df_results_sklearn = df_results_sklearn.append({\"algorithm\": name,\"acc_train\":score_train,\"acc_dev\":score_dev,\"precision_1\" : precision_1, \"recall_1\" : recall_1, \"f1-score_1\" : score_1,\"precision_2\" : precision_2, \"recall_2\" : recall_2, \"f1-score_2\" : score_2,\"precision_3\" : precision_3, \"recall_3\" : recall_3, \"f1-score_3\" : score_3} , ignore_index=True)\n",
    "#         df_results_sklearn.to_csv(\"results/df_results_sklearn_alg.csv\")\n",
    "        "
   ]
  },
  {
   "cell_type": "markdown",
   "metadata": {},
   "source": [
    "## Using XGBoost"
   ]
  },
  {
   "cell_type": "code",
   "execution_count": 10,
   "metadata": {},
   "outputs": [
    {
     "name": "stdout",
     "output_type": "stream",
     "text": [
      "max_depths: 4\n"
     ]
    },
    {
     "ename": "KeyboardInterrupt",
     "evalue": "",
     "output_type": "error",
     "traceback": [
      "\u001b[0;31m---------------------------------------------------------------------------\u001b[0m",
      "\u001b[0;31mKeyboardInterrupt\u001b[0m                         Traceback (most recent call last)",
      "\u001b[0;32m<ipython-input-10-771b406178a5>\u001b[0m in \u001b[0;36m<module>\u001b[0;34m\u001b[0m\n\u001b[1;32m     10\u001b[0m \u001b[0;34m\u001b[0m\u001b[0m\n\u001b[1;32m     11\u001b[0m     \u001b[0mmodel\u001b[0m \u001b[0;34m=\u001b[0m \u001b[0mxgb\u001b[0m\u001b[0;34m.\u001b[0m\u001b[0mXGBClassifier\u001b[0m\u001b[0;34m(\u001b[0m\u001b[0mn_estimators\u001b[0m\u001b[0;34m=\u001b[0m\u001b[0mn_estimator\u001b[0m\u001b[0;34m,\u001b[0m\u001b[0mmax_depth\u001b[0m\u001b[0;34m=\u001b[0m\u001b[0mmax_depth\u001b[0m\u001b[0;34m)\u001b[0m\u001b[0;34m\u001b[0m\u001b[0;34m\u001b[0m\u001b[0m\n\u001b[0;32m---> 12\u001b[0;31m     \u001b[0mmodel\u001b[0m\u001b[0;34m.\u001b[0m\u001b[0mfit\u001b[0m\u001b[0;34m(\u001b[0m\u001b[0mx_train\u001b[0m\u001b[0;34m,\u001b[0m \u001b[0my_train\u001b[0m\u001b[0;34m)\u001b[0m\u001b[0;34m\u001b[0m\u001b[0;34m\u001b[0m\u001b[0m\n\u001b[0m\u001b[1;32m     13\u001b[0m \u001b[0;34m\u001b[0m\u001b[0m\n\u001b[1;32m     14\u001b[0m     \u001b[0my_train_pred\u001b[0m \u001b[0;34m=\u001b[0m \u001b[0mmodel\u001b[0m\u001b[0;34m.\u001b[0m\u001b[0mpredict\u001b[0m\u001b[0;34m(\u001b[0m\u001b[0mx_train\u001b[0m\u001b[0;34m)\u001b[0m\u001b[0;34m\u001b[0m\u001b[0;34m\u001b[0m\u001b[0m\n",
      "\u001b[0;32m/usr/local/lib/python3.7/site-packages/xgboost/sklearn.py\u001b[0m in \u001b[0;36mfit\u001b[0;34m(self, X, y, sample_weight, eval_set, eval_metric, early_stopping_rounds, verbose, xgb_model, sample_weight_eval_set, callbacks)\u001b[0m\n\u001b[1;32m    730\u001b[0m                               \u001b[0mevals_result\u001b[0m\u001b[0;34m=\u001b[0m\u001b[0mevals_result\u001b[0m\u001b[0;34m,\u001b[0m \u001b[0mobj\u001b[0m\u001b[0;34m=\u001b[0m\u001b[0mobj\u001b[0m\u001b[0;34m,\u001b[0m \u001b[0mfeval\u001b[0m\u001b[0;34m=\u001b[0m\u001b[0mfeval\u001b[0m\u001b[0;34m,\u001b[0m\u001b[0;34m\u001b[0m\u001b[0;34m\u001b[0m\u001b[0m\n\u001b[1;32m    731\u001b[0m                               \u001b[0mverbose_eval\u001b[0m\u001b[0;34m=\u001b[0m\u001b[0mverbose\u001b[0m\u001b[0;34m,\u001b[0m \u001b[0mxgb_model\u001b[0m\u001b[0;34m=\u001b[0m\u001b[0mxgb_model\u001b[0m\u001b[0;34m,\u001b[0m\u001b[0;34m\u001b[0m\u001b[0;34m\u001b[0m\u001b[0m\n\u001b[0;32m--> 732\u001b[0;31m                               callbacks=callbacks)\n\u001b[0m\u001b[1;32m    733\u001b[0m \u001b[0;34m\u001b[0m\u001b[0m\n\u001b[1;32m    734\u001b[0m         \u001b[0mself\u001b[0m\u001b[0;34m.\u001b[0m\u001b[0mobjective\u001b[0m \u001b[0;34m=\u001b[0m \u001b[0mxgb_options\u001b[0m\u001b[0;34m[\u001b[0m\u001b[0;34m\"objective\"\u001b[0m\u001b[0;34m]\u001b[0m\u001b[0;34m\u001b[0m\u001b[0;34m\u001b[0m\u001b[0m\n",
      "\u001b[0;32m/usr/local/lib/python3.7/site-packages/xgboost/training.py\u001b[0m in \u001b[0;36mtrain\u001b[0;34m(params, dtrain, num_boost_round, evals, obj, feval, maximize, early_stopping_rounds, evals_result, verbose_eval, xgb_model, callbacks, learning_rates)\u001b[0m\n\u001b[1;32m    214\u001b[0m                            \u001b[0mevals\u001b[0m\u001b[0;34m=\u001b[0m\u001b[0mevals\u001b[0m\u001b[0;34m,\u001b[0m\u001b[0;34m\u001b[0m\u001b[0;34m\u001b[0m\u001b[0m\n\u001b[1;32m    215\u001b[0m                            \u001b[0mobj\u001b[0m\u001b[0;34m=\u001b[0m\u001b[0mobj\u001b[0m\u001b[0;34m,\u001b[0m \u001b[0mfeval\u001b[0m\u001b[0;34m=\u001b[0m\u001b[0mfeval\u001b[0m\u001b[0;34m,\u001b[0m\u001b[0;34m\u001b[0m\u001b[0;34m\u001b[0m\u001b[0m\n\u001b[0;32m--> 216\u001b[0;31m                            xgb_model=xgb_model, callbacks=callbacks)\n\u001b[0m\u001b[1;32m    217\u001b[0m \u001b[0;34m\u001b[0m\u001b[0m\n\u001b[1;32m    218\u001b[0m \u001b[0;34m\u001b[0m\u001b[0m\n",
      "\u001b[0;32m/usr/local/lib/python3.7/site-packages/xgboost/training.py\u001b[0m in \u001b[0;36m_train_internal\u001b[0;34m(params, dtrain, num_boost_round, evals, obj, feval, xgb_model, callbacks)\u001b[0m\n\u001b[1;32m     72\u001b[0m         \u001b[0;31m# Skip the first update if it is a recovery step.\u001b[0m\u001b[0;34m\u001b[0m\u001b[0;34m\u001b[0m\u001b[0;34m\u001b[0m\u001b[0m\n\u001b[1;32m     73\u001b[0m         \u001b[0;32mif\u001b[0m \u001b[0mversion\u001b[0m \u001b[0;34m%\u001b[0m \u001b[0;36m2\u001b[0m \u001b[0;34m==\u001b[0m \u001b[0;36m0\u001b[0m\u001b[0;34m:\u001b[0m\u001b[0;34m\u001b[0m\u001b[0;34m\u001b[0m\u001b[0m\n\u001b[0;32m---> 74\u001b[0;31m             \u001b[0mbst\u001b[0m\u001b[0;34m.\u001b[0m\u001b[0mupdate\u001b[0m\u001b[0;34m(\u001b[0m\u001b[0mdtrain\u001b[0m\u001b[0;34m,\u001b[0m \u001b[0mi\u001b[0m\u001b[0;34m,\u001b[0m \u001b[0mobj\u001b[0m\u001b[0;34m)\u001b[0m\u001b[0;34m\u001b[0m\u001b[0;34m\u001b[0m\u001b[0m\n\u001b[0m\u001b[1;32m     75\u001b[0m             \u001b[0mbst\u001b[0m\u001b[0;34m.\u001b[0m\u001b[0msave_rabit_checkpoint\u001b[0m\u001b[0;34m(\u001b[0m\u001b[0;34m)\u001b[0m\u001b[0;34m\u001b[0m\u001b[0;34m\u001b[0m\u001b[0m\n\u001b[1;32m     76\u001b[0m             \u001b[0mversion\u001b[0m \u001b[0;34m+=\u001b[0m \u001b[0;36m1\u001b[0m\u001b[0;34m\u001b[0m\u001b[0;34m\u001b[0m\u001b[0m\n",
      "\u001b[0;32m/usr/local/lib/python3.7/site-packages/xgboost/core.py\u001b[0m in \u001b[0;36mupdate\u001b[0;34m(self, dtrain, iteration, fobj)\u001b[0m\n\u001b[1;32m   1107\u001b[0m         \u001b[0;32mif\u001b[0m \u001b[0mfobj\u001b[0m \u001b[0;32mis\u001b[0m \u001b[0;32mNone\u001b[0m\u001b[0;34m:\u001b[0m\u001b[0;34m\u001b[0m\u001b[0;34m\u001b[0m\u001b[0m\n\u001b[1;32m   1108\u001b[0m             _check_call(_LIB.XGBoosterUpdateOneIter(self.handle, ctypes.c_int(iteration),\n\u001b[0;32m-> 1109\u001b[0;31m                                                     dtrain.handle))\n\u001b[0m\u001b[1;32m   1110\u001b[0m         \u001b[0;32melse\u001b[0m\u001b[0;34m:\u001b[0m\u001b[0;34m\u001b[0m\u001b[0;34m\u001b[0m\u001b[0m\n\u001b[1;32m   1111\u001b[0m             \u001b[0mpred\u001b[0m \u001b[0;34m=\u001b[0m \u001b[0mself\u001b[0m\u001b[0;34m.\u001b[0m\u001b[0mpredict\u001b[0m\u001b[0;34m(\u001b[0m\u001b[0mdtrain\u001b[0m\u001b[0;34m)\u001b[0m\u001b[0;34m\u001b[0m\u001b[0;34m\u001b[0m\u001b[0m\n",
      "\u001b[0;31mKeyboardInterrupt\u001b[0m: "
     ]
    }
   ],
   "source": [
    "# My gridsearch (greedy)\n",
    "\n",
    "df_results_XGBoost = pd.DataFrame(columns=[\"acc_train\",\"acc_dev\",\"max_depth\",\"n_estimator\",\"precision_1\",\"recall_1\",\"f1-score_1\",\"precision_2\",\"recall_2\",\"f1-score_2\",\"precision_3\",\"recall_3\",\"f1-score_3\"])\n",
    "\n",
    "max_depths = [4,5,6,7,8,9,10]\n",
    "n_estimator =  1500\n",
    "\n",
    "for max_depth in max_depths:\n",
    "    print(\"max_depths:\",max_depth)\n",
    "\n",
    "    model = xgb.XGBClassifier(n_estimators=n_estimator,max_depth=max_depth)\n",
    "    model.fit(x_train, y_train)\n",
    "\n",
    "    y_train_pred = model.predict(x_train)\n",
    "    y_dev_pred = model.predict(x_dev)\n",
    "    \n",
    "\n",
    "    accuracy_train = accuracy_score(y_train, y_train_pred)\n",
    "    accuracy_dev = accuracy_score(y_dev, y_dev_pred)\n",
    "    \n",
    "    pred_y_pred = clf.predict(x_dev)\n",
    "        \n",
    "    dict_report = classification_report(y_dev, pred_y_pred,output_dict=True)\n",
    "    precision_1 = dict_report[\"1\"][\"precision\"]\n",
    "    precision_2 = dict_report[\"2\"][\"precision\"]\n",
    "    precision_3 = dict_report[\"3\"][\"precision\"]\n",
    "\n",
    "    recall_1 = dict_report[\"1\"][\"recall\"]\n",
    "    recall_2 = dict_report[\"2\"][\"recall\"]\n",
    "    recall_3 = dict_report[\"3\"][\"recall\"]\n",
    "\n",
    "    score_1 = dict_report[\"1\"][\"f1-score\"]\n",
    "    score_2 = dict_report[\"2\"][\"f1-score\"]\n",
    "    score_3 = dict_report[\"3\"][\"f1-score\"]\n",
    "    \n",
    "    df_results_XGBoost = df_results_XGBoost.append({\"acc_train\":accuracy_train,\"acc_dev\":accuracy_dev,\"max_depth\":max_depth, \"n_estimator\":n_estimator, \"precision_1\" : precision_1, \"recall_1\" : recall_1, \"f1-score_1\" : score_1,\"precision_2\" : precision_2, \"recall_2\" : recall_2, \"f1-score_2\" : score_2,\"precision_3\" : precision_3, \"recall_3\" : recall_3, \"f1-score_3\" : score_3} , ignore_index=True)\n",
    "    df_results_XGBoost.to_csv(\"results/df_results_XGBoost_max_depths.csv\")\n",
    "    del model\n",
    "    print(\"\\taccuracy_train\",accuracy_train)\n",
    "    print(\"\\taccuracy_dev\",accuracy_dev)\n",
    "        "
   ]
  },
  {
   "cell_type": "code",
   "execution_count": null,
   "metadata": {},
   "outputs": [],
   "source": []
  },
  {
   "cell_type": "code",
   "execution_count": null,
   "metadata": {},
   "outputs": [],
   "source": []
  },
  {
   "cell_type": "code",
   "execution_count": null,
   "metadata": {},
   "outputs": [],
   "source": []
  },
  {
   "cell_type": "code",
   "execution_count": null,
   "metadata": {},
   "outputs": [],
   "source": []
  },
  {
   "cell_type": "code",
   "execution_count": null,
   "metadata": {},
   "outputs": [],
   "source": []
  }
 ],
 "metadata": {
  "kernelspec": {
   "display_name": "Python 3",
   "language": "python",
   "name": "python3"
  },
  "language_info": {
   "codemirror_mode": {
    "name": "ipython",
    "version": 3
   },
   "file_extension": ".py",
   "mimetype": "text/x-python",
   "name": "python",
   "nbconvert_exporter": "python",
   "pygments_lexer": "ipython3",
   "version": "3.7.3"
  }
 },
 "nbformat": 4,
 "nbformat_minor": 2
}
